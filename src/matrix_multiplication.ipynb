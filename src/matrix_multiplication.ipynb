{
 "cells": [
  {
   "cell_type": "markdown",
   "source": [
    "# Chain Matrix Multiplication\n",
    "\n",
    "## Problema\n",
    "El problema de la Multiplicación de Cadenas de Matrices consiste en que, dado un conjunto de matrices con dimensiones específicas representadas en un arreglo, se busca determinar la secuencia óptima de multiplicación de estas matrices de manera que se minimice el número total de multiplicaciones de elementos requeridas. (GfG, 2022)"
   ],
   "metadata": {
    "collapsed": false
   },
   "id": "def40f7c9117faf8"
  },
  {
   "cell_type": "markdown",
   "source": [
    "### Ejemplo del Problema\n",
    "Buscamos multiplicar las siguientes matrices: \n",
    "$$\n",
    "A_{(40x20)} \\cdot B_{(20x30)} \\cdot C_{(30x10)} \\cdot D_{(10x30)}\n",
    "$$\n",
    "\n",
    "Existen varias formas de multiplicar estas matrices (por asociatividad):\n",
    "$$\n",
    "ABCD\n",
    "$$\n",
    "$$\n",
    "(AB)CD\n",
    "$$\n",
    "$$\n",
    "A(BC)D\n",
    "$$\n",
    "$$\n",
    "(AB)(CD)\n",
    "$$\n",
    "\n",
    "Entonces, ¿cómo sabemos cuál es la mejor manera de multiplicar las matrices? ¿Cuál es la que minimiza el número de multiplicaciones de elementos que se necesita? Esto, con el objetivo de obtener el resultado de la multiplicación de una manera más rápida."
   ],
   "metadata": {
    "collapsed": false
   },
   "id": "d701bcb8e7c1714f"
  },
  {
   "cell_type": "markdown",
   "source": [
    "### Ejemplo de Solución\n",
    "La resolución de este problema tiene un acercamiento con [programación dinámica](#programación-dinámica) y otro con el paradigma de [Divide y Vencerás](#divide-y-vencerás). Ambos funcionan de la misma manera. Proveemos un arreglo con las dimensiones de las matrices y se busca la secuencia óptima de multiplicación. Para el [ejemplo de problema](#ejemplo-del-problema) anterior, el arreglo sería ```[40, 20, 30, 10, 30]```. Este arreglo representa la multiplicación de las matrices $A_{(40x20)} \\cdot B_{(20x30)} \\cdot C_{(30x10)} \\cdot D_{(10x30)}$.\n",
    "\n",
    "Es necesario notar que el número de columnas de la matriz $i$ es igual al número de filas de la matriz $i+1$."
   ],
   "metadata": {
    "collapsed": false
   },
   "id": "3097a02a147c1936"
  },
  {
   "cell_type": "markdown",
   "source": [
    "## Divide y Vencerás\n",
    "\n",
    "Para complementar las secciones de aplicabilidad, es necesario comprender la idea en la que se estructura el problema.\n",
    "\n",
    "Asumimos que existe un método $costo\\_min(M_1, M_2)$, el cual retorna el costo mínimo de multiplicar la matriz $M_1$ con la matriz $M_2$.\n",
    "\n",
    "Entonces, para una cadena de productos de matrices como $M_1 \\cdot M_2 \\cdot M_3 \\cdot \\ldots \\cdot M_{n-1} \\cdot M_n$ podemos obtener el costo mínimo de multiplicación de la cadena completa de matrices **dividiendo** el problema así:\n",
    "$$\n",
    "\\begin{equation}\n",
    "  \\text{costo mínimo} = min\n",
    "    \\begin{cases}\n",
    "        costo\\_min(M_1, M_2 \\cdot M_3 \\ldots \\cdot M_n) \\\\\n",
    "        costo\\_min(M_1 \\cdot M_2 \\ldots M_{n-1}, M_n)\n",
    "    \\end{cases}\n",
    "\\end{equation}\n",
    "$$\n",
    "\n",
    "Esto genera dos subproblemas, los cuales pueden ser descompuestos en otros subproblemas más pequeños bajo la misma idea hasta llegar a realizar la multiplicación de solamente dos matrices (caso base). En este punto, sabemos cuál es la cantidad mínima de multiplicaciones (**conquistamos**). Luego, en caso de ser necesario, **combinamos** con otro cálculo de $costo\\_min$.  "
   ],
   "metadata": {
    "collapsed": false
   },
   "id": "188d37e022d75c19"
  },
  {
   "cell_type": "markdown",
   "source": [
    "### Algoritmo\n",
    "    Función Principal: Recibe matrix_array que es una lista y devuelve un entero:\n",
    "        Establecer array_len como la longitud de matrix_array\n",
    "    \n",
    "        Inicializar una tabla 2D de tamaño array_len x array_len, llena de infinito\n",
    "    \n",
    "        Iniciar el proceso recursivo desde la primera matriz hasta la última con la Función Recursiva pasando el arreglo con las dimensiones de las matrices, la tabla y los índices de inicio (1) y fin (array_len - 1)\n",
    "    \n",
    "    Fin de la Función\n",
    "    \n",
    "    Función Recursiva recibe matrix_array que es una lista, table que es una lista, i que es un entero, j que es un entero y devuelve un entero:\n",
    "        Si i es igual a j, devolver 0\n",
    "    \n",
    "        Si la tabla[i][j] no es infinito, devolver tabla[i][j]\n",
    "    \n",
    "        Para k desde i hasta j:\n",
    "            Establecer count como la suma de una llamada recursiva con (matrix_array, table, i, k), otra llamada recursiva con (matrix_array, tabla, k + 1, j) y el producto de matrix_array[i - 1], matrix_array[k] y matrix_array[j]\n",
    "    \n",
    "            Si esa suma (count) es menor que table[i][j], actualizar la tabla[i][j] a count\n",
    "    \n",
    "        Devolver table[i][j]\n",
    "    \n",
    "    Fin de la Función"
   ],
   "metadata": {
    "collapsed": false
   },
   "id": "74d0a31e0eda2ef0"
  },
  {
   "cell_type": "markdown",
   "source": [
    "### Aplicabilidad\n",
    "El acercamiento utilizando DaC es aplicable para este problema, ya que existe la posibilidad de dividir el problema en subproblemas más pequeños que pueden resolverse de manera independiente. Siendo el enfoque justificable por la capacidad de dividir la cadena de matrices en partes más pequeñas, resolver cada parte de manera recursiva y luego combinar las soluciones de manera óptima para obtener el resultado final. Dicha aplicación conlleva dividir la cadena en dos subcadenas en cada paso recursivo, calcular el costo mínimo de multiplicación para cada subcadena y combinar las soluciones para obtener el costo total mínimo (GfG, 2022)."
   ],
   "metadata": {
    "collapsed": false
   },
   "id": "ebe7b696623a7b63"
  },
  {
   "cell_type": "markdown",
   "source": [
    "### Implementación"
   ],
   "metadata": {
    "collapsed": false
   },
   "id": "2737da057f5e7968"
  },
  {
   "cell_type": "code",
   "outputs": [],
   "source": [
    "def _MatrixChainOrderRecursive(matrix_array: list, table: list, i: int, j: int) -> int:\n",
    "    \"\"\"\n",
    "    Recursive helper function to find the minimum number of multiplications needed to multiply the chain of matrices.\n",
    "    :param matrix_array: The dimensions of the matrices in the chain.\n",
    "    :param table: The DP table to store the minimum cost of matrix multiplication.\n",
    "    :param i: The starting index of the chain.\n",
    "    :param j: The ending index of the chain.\n",
    "    :return: The minimum number of multiplications needed.\n",
    "    \"\"\"\n",
    "    # base case: when the chain consists of a single matrix, no multiplication is needed\n",
    "    if i == j:\n",
    "        return 0\n",
    "\n",
    "    # if the solution for this subproblem has already been calculated, return it\n",
    "    # where the results of expensive function calls and reuse the results are stored (memoization)\n",
    "    if table[i][j] != float('inf'):\n",
    "        return table[i][j]\n",
    "\n",
    "    # --- DIVIDE ---\n",
    "    # recursively find the minimum multiplication cost by dividing the problem into smaller subproblems and trying all possible places to split the chain\n",
    "    for k in range(i, j):\n",
    "        count = _MatrixChainOrderRecursive(matrix_array, table, i, k)  # cost of multiplying matrices from i to k\n",
    "        count += _MatrixChainOrderRecursive(matrix_array, table, k + 1, j)  # cost of multiplying matrices from k+1 to j\n",
    "        count += matrix_array[i - 1] * matrix_array[k] * matrix_array[\n",
    "            j]  # cost of multiplying the two resulting matrices\n",
    "\n",
    "        # --- COMBINE AND CONQUER ---\n",
    "        # update dp[i][j] with the minimum cost found so far\n",
    "        if count < table[i][j]:\n",
    "            table[i][j] = count\n",
    "\n",
    "    # return the minimum cost for multiplying matrices from i to j\n",
    "    return table[i][j]"
   ],
   "metadata": {
    "collapsed": false,
    "ExecuteTime": {
     "end_time": "2024-04-03T06:31:21.209441Z",
     "start_time": "2024-04-03T06:31:21.201909Z"
    }
   },
   "id": "df15371f446274e",
   "execution_count": 80
  },
  {
   "cell_type": "code",
   "outputs": [],
   "source": [
    "def MatrixChainOrderDnC(matrix_array: list) -> int:\n",
    "    \"\"\"\n",
    "    Returns the minimum number of multiplications needed to multiply the chain of matrices. Uses Divide and Conquer\n",
    "    :param matrix_array: The dimensions of the matrices in the chain.\n",
    "    :return: The minimum number of multiplications needed.\n",
    "    \"\"\"\n",
    "    array_len = len(matrix_array)\n",
    "\n",
    "    # initialize the DP table with inf, indicating that the minimum cost has not been calculated yet\n",
    "    table = [\n",
    "        [float('inf') for _ in range(array_len)]\n",
    "        for _ in range(array_len)\n",
    "    ]\n",
    "\n",
    "    # start the recursive process from the first matrix to the last\n",
    "    return _MatrixChainOrderRecursive(matrix_array, table, 1, array_len - 1)"
   ],
   "metadata": {
    "collapsed": false,
    "ExecuteTime": {
     "end_time": "2024-04-03T06:31:21.218187Z",
     "start_time": "2024-04-03T06:31:21.212188Z"
    }
   },
   "id": "76e5ab75f5f7dd22",
   "execution_count": 81
  },
  {
   "cell_type": "markdown",
   "source": [
    "## Programación Dinámica\n",
    "El acercamiento de programación dinámica permite que cada vez que se llega a realizar al caso base, es almacenado en una tabla para evitar los cálculos redundantes.\n",
    "\n",
    "Para clarificar de manera visual, observar el siguiente árbol de recursividad. En él se pueden apreciar dos aspectos claves para poder aplicar programación dinámica, que son:\n",
    "- *Subestructuras óptimas*: Descomponemos los problemas grandes en subproblemas más pequeños, los cuales se resuelven para encontrar el número mínimo de multiplicaciones. Podemos decir que el problema tiene subestructuras óptimas.\n",
    "- *Traslapo de subproblemas*: En el árbol de recursión se aprecia como hay ciertos subproblemas que se repiten, ocupando recursos computacionales adicionales.\n",
    "\n",
    "![Árbol de Recursión para el Acercamiento dinámico](media/recursion_tree.jpeg)\n",
    "\n",
    "La manera en la que se ha resuelto es a través de un acercamiento _top-down_, pues primero se verifica si ya ha sido resuelto para devolver un valor. Si no ha sido resuelto, se hace el cálculo y se almacena la respuesta para referencia futura."
   ],
   "metadata": {
    "collapsed": false
   },
   "id": "bdfe03ef7a9699d6"
  },
  {
   "cell_type": "markdown",
   "source": [
    "### Algoritmo\n",
    "    Recibe matrix_array que es una lista con las dimensiones de las matrices a multiplicar\n",
    "\n",
    "        Establecer array_len como la longitud de matrix_array\n",
    "\n",
    "        Inicializar una tabla 2D de tamaño (array_len x array_len), llena de 0s\n",
    "\n",
    "        Para current_length desde 2 hasta array_len:\n",
    "            Para i desde 1 hasta array_len - current_length + 1:\n",
    "                Establecer j como i + current_length - 1\n",
    "                Establecer la posición tabla[i][j] como infinito\n",
    "\n",
    "                Para current_point desde i hasta j:\n",
    "                    Calcular q como la suma de table[i][current_point], table[current_point + 1][j] y el producto de matrix_array[i - 1], matrix_array[current_point] y matrix_array[j]\n",
    "\n",
    "                    Si q es menor que table[i][j], actualizar table[i][j] a q\n",
    "\n",
    "        Devolver table[1][array_len - 1], pues ahí se encuentra el costo mínimo de la cadena completa de matrices\n",
    "        \n",
    "    Fin"
   ],
   "metadata": {
    "collapsed": false
   },
   "id": "a514da032215f99b"
  },
  {
   "cell_type": "markdown",
   "source": [
    "### Aplicabilidad\n",
    "La utilización de programación dinámica es aplicable para este problema, debido a la presencia de subestructura óptima y subproblemas superpuestos en el problema. Este enfoque se justifica teóricamente por la capacidad de descomponer el problema en subproblemas más pequeños, calcular y almacenar las soluciones de estos de manera eficiente y luego la combinación de estas para obtener la solución óptima global.  Dicha aplicación conlleva construir una tabla de programación dinámica que almacene las soluciones óptimas para subproblemas específicos, calculando iterativamente las soluciones basadas en las soluciones de subproblemas más pequeños y utilizando la memoización para evitar cálculos adicionales innecesarios (More, 2021)."
   ],
   "metadata": {
    "collapsed": false
   },
   "id": "87fbc6b778fe330d"
  },
  {
   "cell_type": "markdown",
   "source": [
    "### Implementación"
   ],
   "metadata": {
    "collapsed": false
   },
   "id": "ce5cde2a07eb83e0"
  },
  {
   "cell_type": "code",
   "outputs": [],
   "source": [
    "def MatrixChainOrderDP(matrix_array: list) -> int:\n",
    "    \"\"\"\n",
    "    Returns the minimum number of multiplications needed to multiply the chain of matrices. Uses Dynamic Programming\n",
    "    :param matrix_array: The dimensions of the matrices in the chain.\n",
    "    :return: The minimum number of multiplications needed.\n",
    "    \"\"\"\n",
    "    array_len = len(matrix_array)\n",
    "\n",
    "    # Initialize a 2D table to store the minimum cost of matrix multiplication.\n",
    "    table = [\n",
    "        [0 for _ in range(array_len)]\n",
    "        for _ in range(array_len)\n",
    "    ]\n",
    "\n",
    "    # Current_length represents the chain length being considered, the algorithm gradually increases the chain length from 2 to n\n",
    "    for current_length in range(2, array_len):\n",
    "        for i in range(1, array_len - current_length + 1):\n",
    "            # calculate the ending matrix index in the chain based on current_length and i\n",
    "            j = i + current_length - 1\n",
    "            # initialize the cost to infinity before finding the minimum.\n",
    "            table[i][j] = float('inf')\n",
    "\n",
    "            # chain split at every possible point, calculating he cost for each one, and keep track of the minimum cost found\n",
    "            for current_point in range(i, j):\n",
    "                # calculate cost of splitting at k, including the cost of multiplying the two resulting chains\n",
    "                q = table[i][current_point] + table[current_point + 1][j] + matrix_array[i - 1] * matrix_array[\n",
    "                    current_point] * matrix_array[j]\n",
    "\n",
    "                # update dp[i][j] if a lower cost is found\n",
    "                if q < table[i][j]:\n",
    "                    table[i][j] = q\n",
    "\n",
    "    # dp[1][n-1] holds the minimum cost for the full chain of matrices\n",
    "    return table[1][array_len - 1]"
   ],
   "metadata": {
    "collapsed": true,
    "ExecuteTime": {
     "end_time": "2024-04-03T06:31:21.171779Z",
     "start_time": "2024-04-03T06:31:21.153607Z"
    }
   },
   "id": "initial_id",
   "execution_count": 79
  },
  {
   "cell_type": "markdown",
   "source": [
    "## Pruebas"
   ],
   "metadata": {
    "collapsed": false
   },
   "id": "46510fd28daf681c"
  },
  {
   "cell_type": "code",
   "outputs": [
    {
     "name": "stdout",
     "output_type": "stream",
     "text": [
      "Dynamic Programming:\tMinimum number of multiplications is: 30000\n",
      "Divide & Conquer:\t\tMinimum number of multiplications is: 30000\n"
     ]
    }
   ],
   "source": [
    "# dimensions of matrices in the chain\n",
    "# matrix_array = [10, 20, 30]  # A(10x20), B(20x30) → 6_000\n",
    "# matrix_array = [40, 20, 30, 10, 30]  # A(40x20), B(20x30), C(30x10), D(10x30) → 26_000\n",
    "matrix_dimensions = [10, 20, 30, 40, 30]  # A(10x20), B(20x30), C(30x40), D(40x30) → 30_000\n",
    "\n",
    "print(f\"Divide & Conquer:\\t\\tMinimum number of multiplications is: {MatrixChainOrderDnC(matrix_dimensions)}\")\n",
    "print(f\"Dynamic Programming:\\tMinimum number of multiplications is: {MatrixChainOrderDP(matrix_dimensions)}\")"
   ],
   "metadata": {
    "collapsed": false,
    "ExecuteTime": {
     "end_time": "2024-04-03T06:31:21.226620Z",
     "start_time": "2024-04-03T06:31:21.219737Z"
    }
   },
   "id": "1e97ad85254a4032",
   "execution_count": 82
  },
  {
   "cell_type": "markdown",
   "source": [
    "## Referencias\n",
    "- GeeksforGeeks [GfG]. (2022). _Matrix Chain Multiplication | DP-8. GeeksforGeeks_. [https://www.geeksforgeeks.org/matrix-chain-multiplication-dp-8/](https://www.geeksforgeeks.org/matrix-chain-multiplication-dp-8/)\n",
    "- More, C. (2019). Matrix Chain Multiplication using Dynamic Programming. Medium. [https://medium.com/@hichetanmore/matrix-chain-multiplication-using-dynamic-programming-22a137df955f](https://medium.com/@hichetanmore/matrix-chain-multiplication-using-dynamic-programming-22a137df955f)"
   ],
   "metadata": {
    "collapsed": false
   },
   "id": "cc26941f72bd6807"
  }
 ],
 "metadata": {
  "kernelspec": {
   "display_name": "Python 3",
   "language": "python",
   "name": "python3"
  },
  "language_info": {
   "codemirror_mode": {
    "name": "ipython",
    "version": 2
   },
   "file_extension": ".py",
   "mimetype": "text/x-python",
   "name": "python",
   "nbconvert_exporter": "python",
   "pygments_lexer": "ipython2",
   "version": "2.7.6"
  }
 },
 "nbformat": 4,
 "nbformat_minor": 5
}
