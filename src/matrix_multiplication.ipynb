{
 "cells": [
  {
   "cell_type": "markdown",
   "source": [
    "# Chain Matrix Multiplication\n",
    "\n",
    "## Problema\n",
    "El problema de la Multiplicación de Cadenas de Matrices consiste en que, dado un conjunto de matrices con dimensiones específicas representadas en un arreglo, se busca determinar la secuencia óptima de multiplicación de estas matrices de manera que se minimice el número total de multiplicaciones de elementos requeridas. (GfG, 2022)"
   ],
   "metadata": {
    "collapsed": false
   },
   "id": "def40f7c9117faf8"
  },
  {
   "cell_type": "markdown",
   "source": [
    "### Ejemplo del Problema\n",
    "Buscamos multiplicar las siguientes matrices: \n",
    "$$\n",
    "A_{(40x20)} \\cdot B_{(20x30)} \\cdot C_{(30x10)} \\cdot D_{(10x30)}\n",
    "$$\n",
    "\n",
    "Existen varias formas de multiplicar estas matrices (por asociatividad):\n",
    "$$\n",
    "ABCD\n",
    "$$\n",
    "$$\n",
    "(AB)CD\n",
    "$$\n",
    "$$\n",
    "A(BC)D\n",
    "$$\n",
    "$$\n",
    "(AB)(CD)\n",
    "$$\n",
    "\n",
    "Entonces, ¿cómo sabemos cuál es la mejor manera de multiplicar las matrices? ¿Cuál es la que minimiza el número de multiplicaciones de elementos que se necesita? Esto, con el objetivo de obtener el resultado de la multiplicación de una manera más rápida."
   ],
   "metadata": {
    "collapsed": false
   },
   "id": "d701bcb8e7c1714f"
  },
  {
   "cell_type": "markdown",
   "source": [
    "### Ejemplo de Solución\n",
    "La resolución de este problema tiene un acercamiento con [programación dinámica](#programación-dinámica) y otro con el paradigma de [Divide y Vencerás](#divide-y-vencerás). Ambos funcionan de la misma manera. Proveemos un arreglo con las dimensiones de las matrices y se busca la secuencia óptima de multiplicación. Para el [ejemplo de problema](#ejemplo-del-problema) anterior, el arreglo sería ```[40, 20, 30, 10, 30]```. Este arreglo representa la multiplicación de las matrices $A_{(40x20)} \\cdot B_{(20x30)} \\cdot C_{(30x10)} \\cdot D_{(10x30)}$.\n",
    "\n",
    "Es necesario notar que el número de columnas de la matriz $i$ es igual al número de filas de la matriz $i+1$."
   ],
   "metadata": {
    "collapsed": false
   },
   "id": "3097a02a147c1936"
  },
  {
   "cell_type": "markdown",
   "source": [
    "## Divide y Vencerás\n",
    "\n",
    "Para complementar las secciones de aplicabilidad, es necesario comprender la idea en la que se estructura el problema.\n",
    "\n",
    "Asumimos que existe un método $costo\\_min(M_1, M_2)$, el cual retorna el costo mínimo de multiplicar la matriz $M_1$ con la matriz $M_2$.\n",
    "\n",
    "Entonces, para una cadena de productos de matrices como $M_1 \\cdot M_2 \\cdot M_3 \\cdot \\ldots \\cdot M_{n-1} \\cdot M_n$ podemos obtener el costo mínimo de multiplicación de la cadena completa de matrices **dividiendo** el problema así:\n",
    "$$\n",
    "\\begin{equation}\n",
    "  \\text{costo mínimo} = min\n",
    "    \\begin{cases}\n",
    "        costo\\_min(M_1, M_2 \\cdot M_3 \\ldots \\cdot M_n) \\\\\n",
    "        costo\\_min(M_1 \\cdot M_2 \\ldots M_{n-1}, M_n)\n",
    "    \\end{cases}\n",
    "\\end{equation}\n",
    "$$\n",
    "\n",
    "Esto genera dos subproblemas, los cuales pueden ser descompuestos en otros subproblemas más pequeños bajo la misma idea hasta llegar a realizar la multiplicación de solamente dos matrices (caso base). En este punto, sabemos cuál es la cantidad mínima de multiplicaciones (**conquistamos**). Luego, en caso de ser necesario, **combinamos** con otro cálculo de $costo\\_min$.  "
   ],
   "metadata": {
    "collapsed": false
   },
   "id": "188d37e022d75c19"
  },
  {
   "cell_type": "markdown",
   "source": [
    "### Algoritmo\n",
    "    Función Principal: Recibe matrix_array que es una lista y devuelve un entero:\n",
    "        Establecer array_len como la longitud de matrix_array\n",
    "    \n",
    "        Inicializar una tabla 2D de tamaño array_len x array_len, llena de infinito\n",
    "    \n",
    "        Iniciar el proceso recursivo desde la primera matriz hasta la última con la Función Recursiva pasando el arreglo con las dimensiones de las matrices, la tabla y los índices de inicio (1) y fin (array_len - 1)\n",
    "    \n",
    "    Fin de la Función\n",
    "    \n",
    "    Función Recursiva: Recibe matrix_array, i, j y devuelve un entero:\n",
    "        // Caso base: si solo hay una matriz en la cadena\n",
    "        Si i es igual a j Entonces\n",
    "            Devolver 0\n",
    "        Fin Si\n",
    "    \n",
    "        // Inicializar el conteo mínimo\n",
    "        Establecer _min a infinito\n",
    "    \n",
    "        // ====  DIVIDIR  ====\n",
    "        Para k desde i hasta j Haz\n",
    "            // Dividir: El problema se divide en subproblemas más pequeños (multiplicando cadenas de matrices más pequeñas)\n",
    "            Establecer count al resultado de _MatrixChainOrderRecursive con parámetros matrix_array, i, k\n",
    "            Añadir a count el resultado de _MatrixChainOrderRecursive con parámetros matrix_array, k + 1, j\n",
    "    \n",
    "            // Combinar: Las soluciones a los subproblemas se combinan (los conteos de multiplicación se suman)\n",
    "            Añadir a count el producto de matrix_array[i - 1], matrix_array[k] y matrix_array[j]\n",
    "    \n",
    "            // Actualizar el conteo mínimo si se encuentra un conteo más bajo\n",
    "            Si count es menor que _min Entonces\n",
    "                Establecer _min a count\n",
    "            Fin Si\n",
    "        Fin Para\n",
    "    \n",
    "        // Devolver conteo mínimo\n",
    "        Devolver _min\n",
    "    Fin Función"
   ],
   "metadata": {
    "collapsed": false
   },
   "id": "74d0a31e0eda2ef0"
  },
  {
   "cell_type": "markdown",
   "source": [
    "### Aplicabilidad\n",
    "El acercamiento utilizando DaC es aplicable para este problema, ya que existe la posibilidad de dividir el problema en subproblemas más pequeños que pueden resolverse de manera independiente. Siendo el enfoque justificable por la capacidad de dividir la cadena de matrices en partes más pequeñas, resolver cada parte de manera recursiva y luego combinar las soluciones de manera óptima para obtener el resultado final. Dicha aplicación conlleva dividir la cadena en dos subcadenas en cada paso recursivo, calcular el costo mínimo de multiplicación para cada subcadena y combinar las soluciones para obtener el costo total mínimo (GfG, 2022)."
   ],
   "metadata": {
    "collapsed": false
   },
   "id": "ebe7b696623a7b63"
  },
  {
   "cell_type": "markdown",
   "source": [
    "### Implementación"
   ],
   "metadata": {
    "collapsed": false
   },
   "id": "2737da057f5e7968"
  },
  {
   "cell_type": "code",
   "outputs": [],
   "source": [
    "def _MatrixChainOrderRecursive(matrix_array: list, i: int, j: int) -> int:\n",
    "    \"\"\"\n",
    "    Helper function for the Divide and Conquer approach to find the minimum number of multiplications needed to multiply the chain of matrices.\n",
    "    :param matrix_array: The dimensions of the matrices in the chain. A chain is not necessarily the whole list.\n",
    "    :param i: The starting index of the chain.\n",
    "    :param j: The ending index of the chain.\n",
    "    :return: The minimum number of multiplications needed.\n",
    "    \"\"\"\n",
    "    \n",
    "    # Base case: if there is only one matrix in the chain\n",
    "    if i == j:\n",
    "        # Conquer: The problem is already solved (no multiplication needed for a single matrix)\n",
    "        return 0\n",
    " \n",
    "    # Initialize the minimum count\n",
    "    _min = float('inf')\n",
    "\n",
    "    for k in range(i, j):\n",
    "        # Divide: The problem is divided into smaller subproblems (multiplying smaller chains of matrices)\n",
    "        count = _MatrixChainOrderRecursive(matrix_array, i, k)              # count the number of multiplications needed for the left chain\n",
    "        count += _MatrixChainOrderRecursive(matrix_array, k + 1, j)         # count the number of multiplications needed for the right chain\n",
    "\n",
    "        # Combine: The solutions to the subproblems are combined (the multiplication counts are added together)\n",
    "        count += matrix_array[i - 1] * matrix_array[k] * matrix_array[j]   # count the number of multiplications needed for the current multiplication\n",
    "        \n",
    "        # Update the minimum count if a lower count is found\n",
    "        if count < _min:\n",
    "            _min = count\n",
    " \n",
    "    # Return minimum count\n",
    "    return _min  # The minimum count represents the solution to the original problem"
   ],
   "metadata": {
    "collapsed": false,
    "ExecuteTime": {
     "end_time": "2024-04-03T17:54:26.422291Z",
     "start_time": "2024-04-03T17:54:26.416179Z"
    }
   },
   "id": "df15371f446274e",
   "execution_count": 15
  },
  {
   "cell_type": "code",
   "outputs": [],
   "source": [
    "def MatrixChainOrderDnC(matrix_array: list) -> int:\n",
    "    \"\"\"\n",
    "    Returns the minimum number of multiplications needed to multiply the chain of matrices. Uses Divide and Conquer\n",
    "    :param matrix_array: The dimensions of the matrices in the chain.\n",
    "    :return: The minimum number of multiplications needed.\n",
    "    \"\"\"\n",
    "    array_len = len(matrix_array)\n",
    "\n",
    "    # start the recursive process from the first matrix to the last\n",
    "    return _MatrixChainOrderRecursive(matrix_array, 1, array_len - 1)"
   ],
   "metadata": {
    "collapsed": false,
    "ExecuteTime": {
     "end_time": "2024-04-03T17:54:26.519181Z",
     "start_time": "2024-04-03T17:54:26.514049Z"
    }
   },
   "id": "76e5ab75f5f7dd22",
   "execution_count": 16
  },
  {
   "cell_type": "markdown",
   "source": [
    "## Programación Dinámica\n",
    "El acercamiento de programación dinámica permite que cada vez que se llega a realizar al caso base, es almacenado en una tabla para evitar los cálculos redundantes.\n",
    "\n",
    "Para clarificar de manera visual, observar el siguiente árbol de recursividad. En él se pueden apreciar dos aspectos claves para poder aplicar programación dinámica, que son:\n",
    "- *Subestructuras óptimas*: Descomponemos los problemas grandes en subproblemas más pequeños, los cuales se resuelven para encontrar el número mínimo de multiplicaciones. Podemos decir que el problema tiene subestructuras óptimas.\n",
    "- *Traslapo de subproblemas*: En el árbol de recursión se aprecia como hay ciertos subproblemas que se repiten, ocupando recursos computacionales adicionales.\n",
    "\n",
    "![Árbol de Recursión para el Acercamiento dinámico](media/recursion_tree.jpeg)\n",
    "\n",
    "La manera en la que se ha resuelto es a través de un acercamiento _top-down_, pues primero se verifica si ya ha sido resuelto para devolver un valor. Si no ha sido resuelto, se hace el cálculo y se almacena la respuesta para referencia futura."
   ],
   "metadata": {
    "collapsed": false
   },
   "id": "bdfe03ef7a9699d6"
  },
  {
   "cell_type": "markdown",
   "source": [
    "### Algoritmo\n",
    "    Recibe matrix_array que es una lista con las dimensiones de las matrices a multiplicar\n",
    "\n",
    "        Establecer array_len como la longitud de matrix_array\n",
    "\n",
    "        Inicializar una tabla 2D de tamaño (array_len x array_len), llena de 0s\n",
    "\n",
    "        Para current_length desde 2 hasta array_len:\n",
    "            Para i desde 1 hasta array_len - current_length + 1:\n",
    "                Establecer j como i + current_length - 1\n",
    "                Establecer la posición tabla[i][j] como infinito\n",
    "\n",
    "                Para current_point desde i hasta j:\n",
    "                    Calcular q como la suma de table[i][current_point], table[current_point + 1][j] y el producto de matrix_array[i - 1], matrix_array[current_point] y matrix_array[j]\n",
    "\n",
    "                    Si q es menor que table[i][j], actualizar table[i][j] a q\n",
    "\n",
    "        Devolver table[1][array_len - 1], pues ahí se encuentra el costo mínimo de la cadena completa de matrices\n",
    "        \n",
    "    Fin"
   ],
   "metadata": {
    "collapsed": false
   },
   "id": "a514da032215f99b"
  },
  {
   "cell_type": "markdown",
   "source": [
    "### Aplicabilidad\n",
    "La utilización de programación dinámica es aplicable para este problema, debido a la presencia de subestructura óptima y subproblemas superpuestos en el problema. Este enfoque se justifica teóricamente por la capacidad de descomponer el problema en subproblemas más pequeños, calcular y almacenar las soluciones de estos de manera eficiente y luego la combinación de estas para obtener la solución óptima global.  Dicha aplicación conlleva construir una tabla de programación dinámica que almacene las soluciones óptimas para subproblemas específicos, calculando iterativamente las soluciones basadas en las soluciones de subproblemas más pequeños y utilizando la memoización para evitar cálculos adicionales innecesarios (More, 2021)."
   ],
   "metadata": {
    "collapsed": false
   },
   "id": "87fbc6b778fe330d"
  },
  {
   "cell_type": "markdown",
   "source": [
    "### Implementación"
   ],
   "metadata": {
    "collapsed": false
   },
   "id": "ce5cde2a07eb83e0"
  },
  {
   "cell_type": "code",
   "outputs": [],
   "source": [
    "def MatrixChainOrderDP(matrix_array: list) -> int:\n",
    "    \"\"\"\n",
    "    Returns the minimum number of multiplications needed to multiply the chain of matrices. Uses Dynamic Programming\n",
    "    :param matrix_array: The dimensions of the matrices in the chain.\n",
    "    :return: The minimum number of multiplications needed.\n",
    "    \"\"\"\n",
    "    array_len = len(matrix_array)\n",
    "\n",
    "    # Initialize a 2D table to store the minimum cost of matrix multiplication.\n",
    "    table = [\n",
    "        [0 for _ in range(array_len)]\n",
    "        for _ in range(array_len)\n",
    "    ]\n",
    "\n",
    "    # Current_length represents the chain length being considered, the algorithm gradually increases the chain length from 2 to n\n",
    "    for current_length in range(2, array_len):\n",
    "        for i in range(1, array_len - current_length + 1):\n",
    "            # calculate the ending matrix index in the chain based on current_length and i\n",
    "            j = i + current_length - 1\n",
    "            # initialize the cost to infinity before finding the minimum.\n",
    "            table[i][j] = float('inf')\n",
    "\n",
    "            # chain split at every possible point, calculating he cost for each one, and keep track of the minimum cost found\n",
    "            for current_point in range(i, j):\n",
    "                # calculate cost of splitting at k, including the cost of multiplying the two resulting chains\n",
    "                q = table[i][current_point] + table[current_point + 1][j] + matrix_array[i - 1] * matrix_array[\n",
    "                    current_point] * matrix_array[j]\n",
    "\n",
    "                # update dp[i][j] if a lower cost is found\n",
    "                if q < table[i][j]:\n",
    "                    table[i][j] = q\n",
    "\n",
    "    # dp[1][n-1] holds the minimum cost for the full chain of matrices\n",
    "    return table[1][array_len - 1]"
   ],
   "metadata": {
    "collapsed": true,
    "ExecuteTime": {
     "end_time": "2024-04-03T17:54:26.542499Z",
     "start_time": "2024-04-03T17:54:26.535141Z"
    }
   },
   "id": "initial_id",
   "execution_count": 17
  },
  {
   "cell_type": "markdown",
   "source": [
    "## Pruebas"
   ],
   "metadata": {
    "collapsed": false
   },
   "id": "46510fd28daf681c"
  },
  {
   "cell_type": "code",
   "outputs": [
    {
     "name": "stdout",
     "output_type": "stream",
     "text": [
      "Divide & Conquer:\t\tMinimum number of multiplications is: 30000\n",
      "Dynamic Programming:\tMinimum number of multiplications is: 30000\n"
     ]
    }
   ],
   "source": [
    "# dimensions of matrices in the chain\n",
    "# matrix_dimensions = [10, 20, 30]  # A(10x20), B(20x30) → 6_000\n",
    "# matrix_dimensions = [40, 20, 30, 10, 30]  # A(40x20), B(20x30), C(30x10), D(10x30) → 26_000\n",
    "matrix_dimensions = [10, 20, 30, 40, 30]  # A(10x20), B(20x30), C(30x40), D(40x30) → 30_000\n",
    "\n",
    "print(f\"Divide & Conquer:\\t\\tMinimum number of multiplications is: {MatrixChainOrderDnC(matrix_dimensions)}\")\n",
    "print(f\"Dynamic Programming:\\tMinimum number of multiplications is: {MatrixChainOrderDP(matrix_dimensions)}\")"
   ],
   "metadata": {
    "collapsed": false,
    "ExecuteTime": {
     "end_time": "2024-04-03T17:54:26.556364Z",
     "start_time": "2024-04-03T17:54:26.551479Z"
    }
   },
   "id": "1e97ad85254a4032",
   "execution_count": 18
  },
  {
   "cell_type": "markdown",
   "source": [
    "## Análisis Empírico"
   ],
   "metadata": {
    "collapsed": false
   },
   "id": "981c3b64abba0bfc"
  },
  {
   "cell_type": "markdown",
   "source": [
    "### A.1. Listado de entradas de prueba para medición de tiempos"
   ],
   "metadata": {
    "collapsed": false
   },
   "id": "855a5f6925974fe6"
  },
  {
   "cell_type": "code",
   "outputs": [],
   "source": [
    "import random\n",
    "\n",
    "SEED = 42\n",
    "NUM_ARRAYS = 30\n",
    "\n",
    "# Accepted dimensions for the random matrix sizes\n",
    "MIN_MATRIX_DIM = 4\n",
    "MAX_MATRIX_DIM = 100\n",
    "\n",
    "# Accepted lengths of the random matrix chains\n",
    "MIN_CHAIN_LEN = 5\n",
    "MAX_CHAIN_LEN = 25"
   ],
   "metadata": {
    "collapsed": false,
    "ExecuteTime": {
     "end_time": "2024-04-03T17:54:26.564410Z",
     "start_time": "2024-04-03T17:54:26.559361Z"
    }
   },
   "id": "24219e8768c7fed1",
   "execution_count": 19
  },
  {
   "cell_type": "code",
   "outputs": [],
   "source": [
    "arrays = []\n",
    "\n",
    "for _ in range(NUM_ARRAYS):\n",
    "    array_len = random.randint(MIN_CHAIN_LEN, MAX_CHAIN_LEN)  # Get the size\n",
    "    matrix_array = [random.randint(MIN_MATRIX_DIM, MAX_MATRIX_DIM) for _ in range(array_len)]  # Fill with sizes\n",
    "    arrays.append(matrix_array)"
   ],
   "metadata": {
    "collapsed": false,
    "ExecuteTime": {
     "end_time": "2024-04-03T17:54:26.576731Z",
     "start_time": "2024-04-03T17:54:26.571434Z"
    }
   },
   "id": "5b8ec860a003a57e",
   "execution_count": 20
  },
  {
   "cell_type": "code",
   "outputs": [
    {
     "name": "stdout",
     "output_type": "stream",
     "text": [
      "1. Length: 20\t[32, 64, 86, 11, 94, 12, 21, 99, 81, 13, 14, 33, 60, 75, 27, 9, 4, 70, 33, 56]\n",
      "2. Length: 17\t[14, 22, 82, 33, 27, 85, 89, 91, 38, 62, 35, 54, 73, 100, 100, 78, 52]\n",
      "3. Length: 14\t[61, 34, 60, 35, 80, 77, 83, 80, 75, 94, 24, 64, 58, 13]\n",
      "4. Length: 8\t[22, 62, 28, 57, 55, 48, 22, 72]\n",
      "5. Length: 12\t[80, 71, 32, 4, 88, 41, 57, 41, 30, 13, 60, 45]\n",
      "6. Length: 6\t[50, 95, 89, 76, 55, 65]\n",
      "7. Length: 20\t[12, 27, 68, 6, 35, 97, 76, 48, 93, 65, 83, 77, 85, 13, 69, 16, 86, 58, 85, 37]\n",
      "8. Length: 22\t[77, 21, 67, 55, 29, 70, 53, 42, 94, 5, 52, 57, 18, 55, 67, 18, 41, 24, 56, 72, 88, 4]\n",
      "9. Length: 18\t[94, 8, 13, 74, 11, 93, 18, 21, 33, 86, 21, 29, 15, 14, 67, 25, 74, 98]\n",
      "10. Length: 10\t[33, 70, 99, 71, 35, 96, 62, 54, 11, 34]\n",
      "11. Length: 21\t[98, 68, 23, 28, 76, 15, 53, 31, 75, 28, 8, 82, 94, 24, 59, 37, 7, 79, 39, 84, 15]\n",
      "12. Length: 5\t[35, 4, 89, 80, 4]\n",
      "13. Length: 14\t[51, 34, 49, 54, 85, 36, 30, 54, 40, 11, 13, 98, 14, 96]\n",
      "14. Length: 22\t[58, 40, 29, 48, 61, 53, 10, 94, 42, 10, 28, 32, 19, 65, 62, 9, 53, 68, 38, 16, 78, 36]\n",
      "15. Length: 5\t[17, 41, 26, 41, 61]\n",
      "16. Length: 9\t[15, 4, 32, 13, 51, 64, 72, 61, 93]\n",
      "17. Length: 24\t[60, 94, 79, 96, 30, 63, 82, 25, 38, 99, 34, 53, 30, 68, 11, 29, 16, 54, 66, 94, 90, 9, 71, 26]\n",
      "18. Length: 21\t[42, 83, 60, 22, 71, 28, 30, 82, 19, 80, 11, 55, 73, 57, 57, 25, 23, 51, 4, 89, 67]\n",
      "19. Length: 23\t[82, 84, 25, 80, 100, 82, 26, 68, 36, 100, 72, 100, 60, 55, 86, 82, 61, 59, 91, 88, 32, 18, 72]\n",
      "20. Length: 9\t[92, 21, 71, 6, 63, 52, 13, 33, 53]\n",
      "21. Length: 25\t[92, 15, 23, 97, 24, 82, 87, 68, 30, 45, 67, 8, 97, 89, 68, 91, 80, 25, 60, 23, 15, 29, 30, 33, 84]\n",
      "22. Length: 15\t[93, 26, 19, 16, 44, 73, 4, 74, 64, 68, 100, 85, 83, 29, 18]\n",
      "23. Length: 11\t[34, 99, 88, 83, 39, 41, 68, 14, 15, 93, 51]\n",
      "24. Length: 7\t[32, 99, 75, 33, 98, 26, 63]\n",
      "25. Length: 9\t[61, 61, 21, 38, 92, 23, 50, 30, 9]\n",
      "26. Length: 13\t[38, 98, 35, 31, 51, 77, 65, 76, 16, 94, 90, 9, 78]\n",
      "27. Length: 14\t[79, 69, 47, 64, 95, 63, 71, 47, 74, 67, 72, 23, 29, 82]\n",
      "28. Length: 9\t[69, 51, 34, 71, 91, 92, 15, 29, 94]\n",
      "29. Length: 6\t[11, 91, 76, 39, 68, 48]\n",
      "30. Length: 15\t[96, 90, 37, 59, 89, 90, 90, 83, 92, 66, 97, 73, 21, 97, 33]\n"
     ]
    }
   ],
   "source": [
    "for i, array in enumerate(arrays):\n",
    "    print(f\"{i + 1}. Length: {len(array)}\\t{array}\")"
   ],
   "metadata": {
    "collapsed": false,
    "ExecuteTime": {
     "end_time": "2024-04-03T17:54:26.584384Z",
     "start_time": "2024-04-03T17:54:26.578729Z"
    }
   },
   "id": "f252f23d2acae47c",
   "execution_count": 21
  },
  {
   "cell_type": "markdown",
   "source": [
    "### A.2 Ejecución de pruebas y toma de tiempos"
   ],
   "metadata": {
    "collapsed": false
   },
   "id": "7601c0e5327d3e82"
  },
  {
   "cell_type": "code",
   "outputs": [
    {
     "data": {
      "text/plain": "149620"
     },
     "execution_count": 23,
     "metadata": {},
     "output_type": "execute_result"
    }
   ],
   "source": [
    "MatrixChainOrderDP(arrays[0])"
   ],
   "metadata": {
    "collapsed": false,
    "ExecuteTime": {
     "end_time": "2024-04-03T17:56:10.795959Z",
     "start_time": "2024-04-03T17:56:10.788968Z"
    }
   },
   "id": "46ac13e75a995bcd",
   "execution_count": 23
  },
  {
   "cell_type": "code",
   "outputs": [],
   "source": [
    "MatrixChainOrderDnC(arrays[0])"
   ],
   "metadata": {
    "collapsed": false,
    "is_executing": true,
    "ExecuteTime": {
     "start_time": "2024-04-03T17:57:04.006478Z"
    }
   },
   "id": "ffa6ac47befab07a"
  },
  {
   "cell_type": "markdown",
   "source": [
    "## Referencias\n",
    "- GeeksforGeeks [GfG]. (2022). _Matrix Chain Multiplication | DP-8. GeeksforGeeks_. [https://www.geeksforgeeks.org/matrix-chain-multiplication-dp-8/](https://www.geeksforgeeks.org/matrix-chain-multiplication-dp-8/)\n",
    "- More, C. (2019). Matrix Chain Multiplication using Dynamic Programming. Medium. [https://medium.com/@hichetanmore/matrix-chain-multiplication-using-dynamic-programming-22a137df955f](https://medium.com/@hichetanmore/matrix-chain-multiplication-using-dynamic-programming-22a137df955f)"
   ],
   "metadata": {
    "collapsed": false
   },
   "id": "cc26941f72bd6807"
  }
 ],
 "metadata": {
  "kernelspec": {
   "display_name": "Python 3",
   "language": "python",
   "name": "python3"
  },
  "language_info": {
   "codemirror_mode": {
    "name": "ipython",
    "version": 2
   },
   "file_extension": ".py",
   "mimetype": "text/x-python",
   "name": "python",
   "nbconvert_exporter": "python",
   "pygments_lexer": "ipython2",
   "version": "2.7.6"
  }
 },
 "nbformat": 4,
 "nbformat_minor": 5
}
