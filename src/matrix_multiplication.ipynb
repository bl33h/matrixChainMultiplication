{
 "cells": [
  {
   "cell_type": "markdown",
   "id": "def40f7c9117faf8",
   "metadata": {
    "collapsed": false
   },
   "source": [
    "# Chain Matrix Multiplication\n",
    "\n",
    "## Problema\n",
    "El problema de la Multiplicación de Cadenas de Matrices consiste en que, dado un conjunto de matrices con dimensiones específicas representadas en un arreglo, se busca determinar la secuencia óptima de multiplicación de estas matrices de manera que se minimice el número total de multiplicaciones de elementos requeridas. (GfG, 2022)"
   ]
  },
  {
   "cell_type": "markdown",
   "id": "d701bcb8e7c1714f",
   "metadata": {
    "collapsed": false
   },
   "source": [
    "### Ejemplo del Problema\n",
    "Buscamos multiplicar las siguientes matrices: \n",
    "$$\n",
    "A_{(40x20)} \\cdot B_{(20x30)} \\cdot C_{(30x10)} \\cdot D_{(10x30)}\n",
    "$$\n",
    "\n",
    "Existen varias formas de multiplicar estas matrices (por asociatividad):\n",
    "$$\n",
    "ABCD\n",
    "$$\n",
    "$$\n",
    "(AB)CD\n",
    "$$\n",
    "$$\n",
    "A(BC)D\n",
    "$$\n",
    "$$\n",
    "(AB)(CD)\n",
    "$$\n",
    "\n",
    "Entonces, ¿cómo sabemos cuál es la mejor manera de multiplicar las matrices? ¿Cuál es la que minimiza el número de multiplicaciones de elementos que se necesita? Esto, con el objetivo de obtener el resultado de la multiplicación de una manera más rápida."
   ]
  },
  {
   "cell_type": "markdown",
   "id": "3097a02a147c1936",
   "metadata": {
    "collapsed": false
   },
   "source": [
    "### Ejemplo de Solución\n",
    "La resolución de este problema tiene un acercamiento con [programación dinámica](#programación-dinámica) y otro con el paradigma de [Divide y Vencerás](#divide-y-vencerás). Ambos funcionan de la misma manera. Proveemos un arreglo con las dimensiones de las matrices y se busca la secuencia óptima de multiplicación. Para el [ejemplo de problema](#ejemplo-del-problema) anterior, el arreglo sería ```[40, 20, 30, 10, 30]```. Este arreglo representa la multiplicación de las matrices $A_{(40x20)} \\cdot B_{(20x30)} \\cdot C_{(30x10)} \\cdot D_{(10x30)}$.\n",
    "\n",
    "Es necesario notar que el número de columnas de la matriz $i$ es igual al número de filas de la matriz $i+1$."
   ]
  },
  {
   "cell_type": "markdown",
   "id": "188d37e022d75c19",
   "metadata": {
    "collapsed": false
   },
   "source": [
    "## Divide y Vencerás\n",
    "\n",
    "Para complementar las secciones de aplicabilidad, es necesario comprender la idea en la que se estructura el problema.\n",
    "\n",
    "Asumimos que existe un método $costo\\_min(M_1, M_2)$, el cual retorna el costo mínimo de multiplicar la matriz $M_1$ con la matriz $M_2$.\n",
    "\n",
    "Entonces, para una cadena de productos de matrices como $M_1 \\cdot M_2 \\cdot M_3 \\cdot \\ldots \\cdot M_{n-1} \\cdot M_n$ podemos obtener el costo mínimo de multiplicación de la cadena completa de matrices **dividiendo** el problema así:\n",
    "$$\n",
    "\\begin{equation}\n",
    "  \\text{costo mínimo} = min\n",
    "    \\begin{cases}\n",
    "        costo\\_min(M_1, M_2 \\cdot M_3 \\ldots \\cdot M_n) \\\\\n",
    "        costo\\_min(M_1 \\cdot M_2 \\ldots M_{n-1}, M_n)\n",
    "    \\end{cases}\n",
    "\\end{equation}\n",
    "$$\n",
    "\n",
    "Esto genera dos subproblemas, los cuales pueden ser descompuestos en otros subproblemas más pequeños bajo la misma idea hasta llegar a realizar la multiplicación de solamente dos matrices (caso base). En este punto, sabemos cuál es la cantidad mínima de multiplicaciones (**conquistamos**). Luego, en caso de ser necesario, **combinamos** con otro cálculo de $costo\\_min$.  "
   ]
  },
  {
   "cell_type": "markdown",
   "id": "74d0a31e0eda2ef0",
   "metadata": {
    "collapsed": false
   },
   "source": [
    "### Algoritmo\n",
    "    Función Principal: Recibe matrix_array que es una lista y devuelve un entero:\n",
    "        Establecer array_len como la longitud de matrix_array\n",
    "    \n",
    "        Inicializar una tabla 2D de tamaño array_len x array_len, llena de infinito\n",
    "    \n",
    "        Iniciar el proceso recursivo desde la primera matriz hasta la última con la Función Recursiva pasando el arreglo con las dimensiones de las matrices, la tabla y los índices de inicio (1) y fin (array_len - 1)\n",
    "    \n",
    "    Fin de la Función\n",
    "    \n",
    "    Función Recursiva: Recibe matrix_array, i, j y devuelve un entero:\n",
    "        // Caso base: si solo hay una matriz en la cadena\n",
    "        Si i es igual a j Entonces\n",
    "            Devolver 0\n",
    "        Fin Si\n",
    "    \n",
    "        // Inicializar el conteo mínimo\n",
    "        Establecer _min a infinito\n",
    "    \n",
    "        // ====  DIVIDIR  ====\n",
    "        Para k desde i hasta j Haz\n",
    "            // Dividir: El problema se divide en subproblemas más pequeños (multiplicando cadenas de matrices más pequeñas)\n",
    "            Establecer count al resultado de _MatrixChainOrderRecursive con parámetros matrix_array, i, k\n",
    "            Añadir a count el resultado de _MatrixChainOrderRecursive con parámetros matrix_array, k + 1, j\n",
    "    \n",
    "            // Combinar: Las soluciones a los subproblemas se combinan (los conteos de multiplicación se suman)\n",
    "            Añadir a count el producto de matrix_array[i - 1], matrix_array[k] y matrix_array[j]\n",
    "    \n",
    "            // Actualizar el conteo mínimo si se encuentra un conteo más bajo\n",
    "            Si count es menor que _min Entonces\n",
    "                Establecer _min a count\n",
    "            Fin Si\n",
    "        Fin Para\n",
    "    \n",
    "        // Devolver conteo mínimo\n",
    "        Devolver _min\n",
    "    Fin Función"
   ]
  },
  {
   "cell_type": "markdown",
   "id": "ebe7b696623a7b63",
   "metadata": {
    "collapsed": false
   },
   "source": [
    "### Aplicabilidad\n",
    "El acercamiento utilizando DaC es aplicable para este problema, ya que existe la posibilidad de dividir el problema en subproblemas más pequeños que pueden resolverse de manera independiente. Siendo el enfoque justificable por la capacidad de dividir la cadena de matrices en partes más pequeñas, resolver cada parte de manera recursiva y luego combinar las soluciones de manera óptima para obtener el resultado final. Dicha aplicación conlleva dividir la cadena en dos subcadenas en cada paso recursivo, calcular el costo mínimo de multiplicación para cada subcadena y combinar las soluciones para obtener el costo total mínimo (GfG, 2022)."
   ]
  },
  {
   "cell_type": "markdown",
   "id": "2737da057f5e7968",
   "metadata": {
    "collapsed": false
   },
   "source": [
    "### Implementación"
   ]
  },
  {
   "cell_type": "code",
   "execution_count": 15,
   "id": "df15371f446274e",
   "metadata": {
    "ExecuteTime": {
     "end_time": "2024-04-03T17:54:26.422291Z",
     "start_time": "2024-04-03T17:54:26.416179Z"
    },
    "collapsed": false
   },
   "outputs": [],
   "source": [
    "def _MatrixChainOrderRecursive(matrix_array: list, i: int, j: int) -> int:\n",
    "    \"\"\"\n",
    "    Helper function for the Divide and Conquer approach to find the minimum number of multiplications needed to multiply the chain of matrices.\n",
    "    :param matrix_array: The dimensions of the matrices in the chain. A chain is not necessarily the whole list.\n",
    "    :param i: The starting index of the chain.\n",
    "    :param j: The ending index of the chain.\n",
    "    :return: The minimum number of multiplications needed.\n",
    "    \"\"\"\n",
    "    \n",
    "    # Base case: if there is only one matrix in the chain\n",
    "    if i == j:\n",
    "        # Conquer: The problem is already solved (no multiplication needed for a single matrix)\n",
    "        return 0\n",
    " \n",
    "    # Initialize the minimum count\n",
    "    _min = float('inf')\n",
    "\n",
    "    for k in range(i, j):\n",
    "        # Divide: The problem is divided into smaller subproblems (multiplying smaller chains of matrices)\n",
    "        count = _MatrixChainOrderRecursive(matrix_array, i, k)              # count the number of multiplications needed for the left chain\n",
    "        count += _MatrixChainOrderRecursive(matrix_array, k + 1, j)         # count the number of multiplications needed for the right chain\n",
    "\n",
    "        # Combine: The solutions to the subproblems are combined (the multiplication counts are added together)\n",
    "        count += matrix_array[i - 1] * matrix_array[k] * matrix_array[j]   # count the number of multiplications needed for the current multiplication\n",
    "        \n",
    "        # Update the minimum count if a lower count is found\n",
    "        if count < _min:\n",
    "            _min = count\n",
    " \n",
    "    # Return minimum count\n",
    "    return _min  # The minimum count represents the solution to the original problem"
   ]
  },
  {
   "cell_type": "code",
   "execution_count": 16,
   "id": "76e5ab75f5f7dd22",
   "metadata": {
    "ExecuteTime": {
     "end_time": "2024-04-03T17:54:26.519181Z",
     "start_time": "2024-04-03T17:54:26.514049Z"
    },
    "collapsed": false
   },
   "outputs": [],
   "source": [
    "def MatrixChainOrderDnC(matrix_array: list) -> int:\n",
    "    \"\"\"\n",
    "    Returns the minimum number of multiplications needed to multiply the chain of matrices. Uses Divide and Conquer\n",
    "    :param matrix_array: The dimensions of the matrices in the chain.\n",
    "    :return: The minimum number of multiplications needed.\n",
    "    \"\"\"\n",
    "    array_len = len(matrix_array)\n",
    "\n",
    "    # start the recursive process from the first matrix to the last\n",
    "    return _MatrixChainOrderRecursive(matrix_array, 1, array_len - 1)"
   ]
  },
  {
   "cell_type": "markdown",
   "id": "bdfe03ef7a9699d6",
   "metadata": {
    "collapsed": false
   },
   "source": [
    "## Programación Dinámica\n",
    "El acercamiento de programación dinámica permite que cada vez que se llega a realizar al caso base, es almacenado en una tabla para evitar los cálculos redundantes.\n",
    "\n",
    "Para clarificar de manera visual, observar el siguiente árbol de recursividad. En él se pueden apreciar dos aspectos claves para poder aplicar programación dinámica, que son:\n",
    "- *Subestructuras óptimas*: Descomponemos los problemas grandes en subproblemas más pequeños, los cuales se resuelven para encontrar el número mínimo de multiplicaciones. Podemos decir que el problema tiene subestructuras óptimas.\n",
    "- *Traslapo de subproblemas*: En el árbol de recursión se aprecia como hay ciertos subproblemas que se repiten, ocupando recursos computacionales adicionales.\n",
    "\n",
    "![Árbol de Recursión para el Acercamiento dinámico](media/recursion_tree.jpeg)\n",
    "\n",
    "La manera en la que se ha resuelto es a través de un acercamiento _top-down_, pues primero se verifica si ya ha sido resuelto para devolver un valor. Si no ha sido resuelto, se hace el cálculo y se almacena la respuesta para referencia futura."
   ]
  },
  {
   "cell_type": "markdown",
   "id": "a514da032215f99b",
   "metadata": {
    "collapsed": false
   },
   "source": [
    "### Algoritmo\n",
    "    Recibe matrix_array que es una lista con las dimensiones de las matrices a multiplicar\n",
    "\n",
    "        Establecer array_len como la longitud de matrix_array\n",
    "\n",
    "        Inicializar una tabla 2D de tamaño (array_len x array_len), llena de 0s\n",
    "\n",
    "        Para current_length desde 2 hasta array_len:\n",
    "            Para i desde 1 hasta array_len - current_length + 1:\n",
    "                Establecer j como i + current_length - 1\n",
    "                Establecer la posición tabla[i][j] como infinito\n",
    "\n",
    "                Para current_point desde i hasta j:\n",
    "                    Calcular q como la suma de table[i][current_point], table[current_point + 1][j] y el producto de matrix_array[i - 1], matrix_array[current_point] y matrix_array[j]\n",
    "\n",
    "                    Si q es menor que table[i][j], actualizar table[i][j] a q\n",
    "\n",
    "        Devolver table[1][array_len - 1], pues ahí se encuentra el costo mínimo de la cadena completa de matrices\n",
    "        \n",
    "    Fin"
   ]
  },
  {
   "cell_type": "markdown",
   "id": "87fbc6b778fe330d",
   "metadata": {
    "collapsed": false
   },
   "source": [
    "### Aplicabilidad\n",
    "La utilización de programación dinámica es aplicable para este problema, debido a la presencia de subestructura óptima y subproblemas superpuestos en el problema. Este enfoque se justifica teóricamente por la capacidad de descomponer el problema en subproblemas más pequeños, calcular y almacenar las soluciones de estos de manera eficiente y luego la combinación de estas para obtener la solución óptima global.  Dicha aplicación conlleva construir una tabla de programación dinámica que almacene las soluciones óptimas para subproblemas específicos, calculando iterativamente las soluciones basadas en las soluciones de subproblemas más pequeños y utilizando la memoización para evitar cálculos adicionales innecesarios (More, 2021)."
   ]
  },
  {
   "cell_type": "markdown",
   "id": "ce5cde2a07eb83e0",
   "metadata": {
    "collapsed": false
   },
   "source": [
    "### Implementación"
   ]
  },
  {
   "cell_type": "code",
   "execution_count": 17,
   "id": "initial_id",
   "metadata": {
    "ExecuteTime": {
     "end_time": "2024-04-03T17:54:26.542499Z",
     "start_time": "2024-04-03T17:54:26.535141Z"
    },
    "collapsed": true
   },
   "outputs": [],
   "source": [
    "def MatrixChainOrderDP(matrix_array: list) -> int:\n",
    "    \"\"\"\n",
    "    Returns the minimum number of multiplications needed to multiply the chain of matrices. Uses Dynamic Programming\n",
    "    :param matrix_array: The dimensions of the matrices in the chain.\n",
    "    :return: The minimum number of multiplications needed.\n",
    "    \"\"\"\n",
    "    array_len = len(matrix_array)\n",
    "\n",
    "    # Initialize a 2D table to store the minimum cost of matrix multiplication.\n",
    "    table = [\n",
    "        [0 for _ in range(array_len)]\n",
    "        for _ in range(array_len)\n",
    "    ]\n",
    "\n",
    "    # Current_length represents the chain length being considered, the algorithm gradually increases the chain length from 2 to n\n",
    "    for current_length in range(2, array_len):\n",
    "        for i in range(1, array_len - current_length + 1):\n",
    "            # calculate the ending matrix index in the chain based on current_length and i\n",
    "            j = i + current_length - 1\n",
    "            # initialize the cost to infinity before finding the minimum.\n",
    "            table[i][j] = float('inf')\n",
    "\n",
    "            # chain split at every possible point, calculating he cost for each one, and keep track of the minimum cost found\n",
    "            for current_point in range(i, j):\n",
    "                # calculate cost of splitting at k, including the cost of multiplying the two resulting chains\n",
    "                q = table[i][current_point] + table[current_point + 1][j] + matrix_array[i - 1] * matrix_array[\n",
    "                    current_point] * matrix_array[j]\n",
    "\n",
    "                # update dp[i][j] if a lower cost is found\n",
    "                if q < table[i][j]:\n",
    "                    table[i][j] = q\n",
    "\n",
    "    # dp[1][n-1] holds the minimum cost for the full chain of matrices\n",
    "    return table[1][array_len - 1]"
   ]
  },
  {
   "cell_type": "markdown",
   "id": "46510fd28daf681c",
   "metadata": {
    "collapsed": false
   },
   "source": [
    "## Pruebas"
   ]
  },
  {
   "cell_type": "code",
   "execution_count": 18,
   "id": "1e97ad85254a4032",
   "metadata": {
    "ExecuteTime": {
     "end_time": "2024-04-03T17:54:26.556364Z",
     "start_time": "2024-04-03T17:54:26.551479Z"
    },
    "collapsed": false
   },
   "outputs": [
    {
     "name": "stdout",
     "output_type": "stream",
     "text": [
      "Divide & Conquer:\t\tMinimum number of multiplications is: 30000\n",
      "Dynamic Programming:\tMinimum number of multiplications is: 30000\n"
     ]
    }
   ],
   "source": [
    "# dimensions of matrices in the chain\n",
    "# matrix_dimensions = [10, 20, 30]  # A(10x20), B(20x30) → 6_000\n",
    "# matrix_dimensions = [40, 20, 30, 10, 30]  # A(40x20), B(20x30), C(30x10), D(10x30) → 26_000\n",
    "matrix_dimensions = [10, 20, 30, 40, 30]  # A(10x20), B(20x30), C(30x40), D(40x30) → 30_000\n",
    "\n",
    "print(f\"Divide & Conquer:\\t\\tMinimum number of multiplications is: {MatrixChainOrderDnC(matrix_dimensions)}\")\n",
    "print(f\"Dynamic Programming:\\tMinimum number of multiplications is: {MatrixChainOrderDP(matrix_dimensions)}\")"
   ]
  },
  {
   "cell_type": "markdown",
   "id": "981c3b64abba0bfc",
   "metadata": {
    "collapsed": false
   },
   "source": [
    "## Análisis Empírico"
   ]
  },
  {
   "cell_type": "markdown",
   "id": "855a5f6925974fe6",
   "metadata": {
    "collapsed": false
   },
   "source": [
    "### A.1. Listado de entradas de prueba para medición de tiempos"
   ]
  },
  {
   "cell_type": "code",
   "execution_count": 29,
   "id": "24219e8768c7fed1",
   "metadata": {
    "ExecuteTime": {
     "end_time": "2024-04-03T17:54:26.564410Z",
     "start_time": "2024-04-03T17:54:26.559361Z"
    },
    "collapsed": false
   },
   "outputs": [],
   "source": [
    "import random\n",
    "\n",
    "SEED = 42\n",
    "NUM_ARRAYS = 30\n",
    "\n",
    "# Accepted dimensions for the random matrix sizes\n",
    "MIN_MATRIX_DIM = 4\n",
    "MAX_MATRIX_DIM = 100\n",
    "\n",
    "# Accepted lengths of the random matrix chains\n",
    "SIZE_STEP = 2"
   ]
  },
  {
   "cell_type": "code",
   "execution_count": 30,
   "id": "5b8ec860a003a57e",
   "metadata": {
    "ExecuteTime": {
     "end_time": "2024-04-03T17:54:26.576731Z",
     "start_time": "2024-04-03T17:54:26.571434Z"
    },
    "collapsed": false
   },
   "outputs": [],
   "source": [
    "arrays = []\n",
    "\n",
    "for i in range(SIZE_STEP, (NUM_ARRAYS*SIZE_STEP)+SIZE_STEP, SIZE_STEP):\n",
    "    matrix_array = [random.randint(MIN_MATRIX_DIM, MAX_MATRIX_DIM) for _ in range(i)]  # Fill with sizes\n",
    "    arrays.append(matrix_array)"
   ]
  },
  {
   "cell_type": "code",
   "execution_count": 31,
   "id": "f252f23d2acae47c",
   "metadata": {
    "ExecuteTime": {
     "end_time": "2024-04-03T17:54:26.584384Z",
     "start_time": "2024-04-03T17:54:26.578729Z"
    },
    "collapsed": false
   },
   "outputs": [
    {
     "name": "stdout",
     "output_type": "stream",
     "text": [
      "1. Length: 2\t[83, 81]\n",
      "2. Length: 4\t[82, 15, 29, 89]\n",
      "3. Length: 6\t[66, 46, 43, 90, 87, 37]\n",
      "4. Length: 8\t[68, 27, 32, 26, 14, 17, 92, 92]\n",
      "5. Length: 10\t[56, 47, 11, 63, 37, 77, 96, 50, 41, 13]\n",
      "6. Length: 12\t[81, 88, 32, 10, 6, 24, 38, 37, 31, 57, 11, 80]\n",
      "7. Length: 14\t[53, 53, 65, 75, 52, 64, 26, 14, 7, 44, 74, 43, 61, 50]\n",
      "8. Length: 16\t[10, 85, 8, 55, 93, 19, 62, 15, 72, 82, 24, 70, 17, 12, 58, 44]\n",
      "9. Length: 18\t[12, 68, 17, 35, 68, 10, 47, 15, 6, 45, 37, 55, 73, 25, 43, 98, 88, 38]\n",
      "10. Length: 20\t[70, 96, 7, 47, 68, 97, 97, 60, 98, 33, 77, 49, 53, 71, 74, 87, 99, 21, 56, 48]\n",
      "11. Length: 22\t[67, 34, 56, 19, 16, 39, 85, 37, 77, 47, 97, 92, 8, 64, 5, 14, 88, 76, 58, 14, 78, 93]\n",
      "12. Length: 24\t[59, 45, 16, 75, 60, 88, 51, 38, 70, 5, 30, 17, 69, 50, 46, 35, 28, 39, 9, 33, 42, 98, 78, 38]\n",
      "13. Length: 26\t[15, 4, 26, 52, 18, 75, 96, 50, 68, 4, 75, 19, 34, 44, 90, 47, 76, 94, 56, 7, 65, 33, 90, 49, 93, 12]\n",
      "14. Length: 28\t[64, 85, 37, 79, 87, 18, 21, 72, 65, 61, 44, 18, 25, 43, 49, 94, 87, 4, 43, 8, 95, 89, 91, 33, 42, 46, 9, 68]\n",
      "15. Length: 30\t[47, 14, 74, 71, 11, 83, 54, 57, 95, 16, 38, 55, 34, 27, 69, 70, 61, 95, 65, 92, 28, 94, 53, 75, 28, 90, 73, 28, 37, 76]\n",
      "16. Length: 32\t[82, 49, 21, 21, 92, 42, 14, 20, 24, 18, 51, 46, 7, 44, 99, 8, 74, 97, 44, 27, 15, 14, 93, 94, 5, 85, 24, 24, 6, 59, 17, 31]\n",
      "17. Length: 34\t[92, 17, 25, 63, 14, 60, 67, 19, 86, 81, 56, 81, 32, 97, 50, 56, 32, 19, 46, 20, 75, 39, 88, 9, 89, 21, 98, 34, 92, 98, 29, 12, 52, 100]\n",
      "18. Length: 36\t[72, 81, 32, 49, 63, 5, 37, 62, 95, 67, 49, 30, 41, 67, 4, 34, 56, 94, 78, 72, 48, 31, 39, 92, 9, 43, 17, 92, 28, 51, 75, 93, 45, 68, 22, 70]\n",
      "19. Length: 38\t[88, 92, 96, 68, 57, 58, 16, 39, 58, 35, 54, 63, 44, 56, 75, 65, 47, 72, 91, 20, 13, 23, 69, 60, 16, 94, 20, 59, 69, 94, 43, 78, 39, 30, 37, 78, 71, 76]\n",
      "20. Length: 40\t[8, 25, 49, 56, 10, 68, 7, 7, 89, 7, 45, 92, 47, 70, 11, 70, 31, 21, 46, 62, 45, 51, 60, 63, 69, 55, 61, 53, 37, 77, 80, 42, 63, 31, 6, 13, 36, 16, 24, 94]\n",
      "21. Length: 42\t[7, 98, 79, 32, 72, 23, 100, 96, 11, 59, 5, 32, 42, 10, 8, 53, 89, 65, 88, 80, 15, 45, 6, 37, 63, 57, 75, 52, 78, 96, 26, 76, 45, 36, 65, 65, 79, 58, 40, 20, 92, 57]\n",
      "22. Length: 44\t[77, 96, 9, 83, 96, 37, 67, 20, 96, 19, 81, 33, 9, 29, 40, 10, 62, 57, 68, 51, 17, 41, 82, 41, 39, 23, 65, 22, 12, 89, 95, 70, 60, 16, 32, 56, 84, 91, 98, 40, 60, 26, 47, 13]\n",
      "23. Length: 46\t[14, 50, 87, 28, 16, 86, 85, 50, 47, 46, 69, 87, 6, 12, 27, 69, 21, 87, 94, 35, 69, 81, 54, 80, 6, 95, 72, 77, 7, 12, 71, 83, 77, 33, 61, 97, 61, 31, 69, 32, 38, 11, 18, 8, 55, 99]\n",
      "24. Length: 48\t[11, 67, 73, 72, 100, 5, 92, 73, 66, 37, 88, 96, 51, 89, 83, 81, 22, 49, 20, 69, 51, 24, 63, 76, 54, 11, 19, 62, 99, 39, 45, 4, 94, 40, 11, 38, 56, 58, 66, 59, 19, 13, 27, 85, 10, 32, 72, 61]\n",
      "25. Length: 50\t[22, 9, 95, 39, 58, 35, 61, 59, 15, 67, 7, 29, 69, 32, 6, 12, 46, 46, 30, 73, 66, 92, 69, 18, 14, 58, 39, 10, 34, 47, 89, 27, 35, 4, 94, 26, 22, 24, 83, 97, 82, 93, 87, 38, 74, 61, 95, 43, 7, 26]\n",
      "26. Length: 52\t[30, 100, 63, 31, 46, 12, 22, 44, 39, 36, 72, 87, 84, 44, 86, 32, 74, 7, 27, 24, 31, 59, 48, 72, 25, 9, 34, 39, 34, 63, 42, 98, 10, 31, 25, 24, 82, 8, 71, 73, 22, 24, 49, 63, 5, 5, 55, 87, 30, 23, 69, 33]\n",
      "27. Length: 54\t[28, 48, 51, 50, 50, 82, 82, 10, 86, 71, 79, 15, 89, 66, 60, 83, 62, 72, 33, 7, 17, 78, 78, 56, 43, 66, 19, 63, 73, 41, 97, 24, 75, 30, 4, 86, 36, 72, 51, 7, 60, 60, 67, 41, 49, 42, 80, 27, 17, 7, 100, 77, 87, 46]\n",
      "28. Length: 56\t[66, 91, 40, 87, 74, 59, 47, 47, 94, 29, 97, 39, 48, 39, 32, 79, 94, 64, 61, 34, 24, 71, 52, 51, 93, 76, 53, 58, 55, 15, 99, 26, 40, 20, 20, 28, 97, 40, 56, 52, 37, 79, 15, 75, 77, 41, 19, 98, 88, 23, 81, 35, 38, 42, 15, 79]\n",
      "29. Length: 58\t[55, 99, 10, 72, 94, 69, 13, 18, 44, 20, 80, 23, 24, 21, 44, 71, 64, 80, 67, 28, 66, 26, 11, 29, 40, 48, 35, 42, 54, 24, 17, 19, 68, 72, 95, 84, 36, 30, 50, 80, 50, 9, 45, 55, 94, 41, 18, 38, 54, 95, 43, 45, 7, 52, 67, 95, 7, 67]\n",
      "30. Length: 60\t[41, 96, 54, 73, 97, 46, 30, 37, 65, 69, 39, 19, 79, 23, 97, 75, 54, 72, 64, 64, 55, 81, 56, 16, 48, 47, 36, 65, 57, 45, 18, 24, 12, 54, 18, 44, 85, 47, 62, 65, 31, 58, 55, 84, 10, 71, 19, 85, 88, 51, 52, 46, 76, 96, 50, 87, 21, 27, 70, 46]\n"
     ]
    }
   ],
   "source": [
    "for i, array in enumerate(arrays):\n",
    "    print(f\"{i + 1}. Length: {len(array)}\\t{array}\")"
   ]
  },
  {
   "cell_type": "markdown",
   "id": "7601c0e5327d3e82",
   "metadata": {
    "collapsed": false
   },
   "source": [
    "### A.2 Ejecución de pruebas y toma de tiempos"
   ]
  },
  {
   "cell_type": "code",
   "execution_count": 1,
   "id": "646be99a",
   "metadata": {},
   "outputs": [],
   "source": [
    "import time\n",
    "import matplotlib.pyplot as plt\n",
    "import numpy as np"
   ]
  },
  {
   "cell_type": "code",
   "execution_count": 32,
   "id": "46ac13e75a995bcd",
   "metadata": {
    "ExecuteTime": {
     "end_time": "2024-04-03T17:56:10.795959Z",
     "start_time": "2024-04-03T17:56:10.788968Z"
    },
    "collapsed": false
   },
   "outputs": [],
   "source": [
    "DPExecTime = []\n",
    "DPSampleSize = []\n",
    "for i, array in enumerate(arrays):\n",
    "    start = time.time()\n",
    "    MatrixChainOrderDP(array)\n",
    "    DPExecTime.append(time.time() - start)\n",
    "    DPSampleSize.append(len(array))\n"
   ]
  },
  {
   "cell_type": "code",
   "execution_count": 34,
   "id": "18479981",
   "metadata": {},
   "outputs": [
    {
     "data": {
      "image/png": "[encoded data removed]",
      "text/plain": [
       "<Figure size 640x480 with 1 Axes>"
      ]
     },
     "metadata": {},
     "output_type": "display_data"
    }
   ],
   "source": [
    "DP_POLINOMIAL_DEGREE = 2\n",
    "\n",
    "# Fit a polynomial curve to the data\n",
    "coef = np.polyfit(DPSampleSize, DPExecTime, DP_POLINOMIAL_DEGREE)\n",
    "poli = np.poly1d(coef)\n",
    "\n",
    "# Generate the curve\n",
    "sizesCurve = np.linspace(min(DPSampleSize), max(DPSampleSize), 100)\n",
    "timesCurve = poli(sizesCurve)\n",
    "\n",
    "plt.plot(DPSampleSize, DPExecTime, marker='o')\n",
    "plt.plot(sizesCurve, timesCurve, label='Curva ajustada', color='red')\n",
    "plt.xlabel('Size')\n",
    "plt.ylabel('Execution time')\n",
    "plt.title('Dynamic Programming')\n",
    "plt.grid(True)\n",
    "plt.show()"
   ]
  },
  {
   "cell_type": "markdown",
   "id": "6fb40f60",
   "metadata": {},
   "source": [
    "### Divide and conquer"
   ]
  },
  {
   "cell_type": "code",
   "execution_count": 36,
   "id": "ffa6ac47befab07a",
   "metadata": {
    "ExecuteTime": {
     "start_time": "2024-04-03T17:57:04.006478Z"
    },
    "collapsed": false,
    "is_executing": true
   },
   "outputs": [
    {
     "name": "stdout",
     "output_type": "stream",
     "text": [
      "0\n",
      "1\n",
      "2\n",
      "3\n",
      "4\n",
      "5\n",
      "6\n",
      "7\n",
      "8\n",
      "9\n"
     ]
    },
    {
     "ename": "KeyboardInterrupt",
     "evalue": "",
     "output_type": "error",
     "traceback": [
      "\u001b[1;31m---------------------------------------------------------------------------\u001b[0m",
      "\u001b[1;31mKeyboardInterrupt\u001b[0m                         Traceback (most recent call last)",
      "Cell \u001b[1;32mIn[36], line 6\u001b[0m\n\u001b[0;32m      4\u001b[0m \u001b[38;5;28mprint\u001b[39m(i)\n\u001b[0;32m      5\u001b[0m start \u001b[38;5;241m=\u001b[39m time\u001b[38;5;241m.\u001b[39mtime()\n\u001b[1;32m----> 6\u001b[0m \u001b[43mMatrixChainOrderDnC\u001b[49m\u001b[43m(\u001b[49m\u001b[43marray\u001b[49m\u001b[43m)\u001b[49m\n\u001b[0;32m      7\u001b[0m DnCExecTime\u001b[38;5;241m.\u001b[39mappend(time\u001b[38;5;241m.\u001b[39mtime() \u001b[38;5;241m-\u001b[39m start)\n\u001b[0;32m      8\u001b[0m DnCSampleSize\u001b[38;5;241m.\u001b[39mappend(\u001b[38;5;28mlen\u001b[39m(array))\n",
      "Cell \u001b[1;32mIn[16], line 10\u001b[0m, in \u001b[0;36mMatrixChainOrderDnC\u001b[1;34m(matrix_array)\u001b[0m\n\u001b[0;32m      7\u001b[0m array_len \u001b[38;5;241m=\u001b[39m \u001b[38;5;28mlen\u001b[39m(matrix_array)\n\u001b[0;32m      9\u001b[0m \u001b[38;5;66;03m# start the recursive process from the first matrix to the last\u001b[39;00m\n\u001b[1;32m---> 10\u001b[0m \u001b[38;5;28;01mreturn\u001b[39;00m \u001b[43m_MatrixChainOrderRecursive\u001b[49m\u001b[43m(\u001b[49m\u001b[43mmatrix_array\u001b[49m\u001b[43m,\u001b[49m\u001b[43m \u001b[49m\u001b[38;5;241;43m1\u001b[39;49m\u001b[43m,\u001b[49m\u001b[43m \u001b[49m\u001b[43marray_len\u001b[49m\u001b[43m \u001b[49m\u001b[38;5;241;43m-\u001b[39;49m\u001b[43m \u001b[49m\u001b[38;5;241;43m1\u001b[39;49m\u001b[43m)\u001b[49m\n",
      "Cell \u001b[1;32mIn[15], line 21\u001b[0m, in \u001b[0;36m_MatrixChainOrderRecursive\u001b[1;34m(matrix_array, i, j)\u001b[0m\n\u001b[0;32m     18\u001b[0m \u001b[38;5;28;01mfor\u001b[39;00m k \u001b[38;5;129;01min\u001b[39;00m \u001b[38;5;28mrange\u001b[39m(i, j):\n\u001b[0;32m     19\u001b[0m     \u001b[38;5;66;03m# Divide: The problem is divided into smaller subproblems (multiplying smaller chains of matrices)\u001b[39;00m\n\u001b[0;32m     20\u001b[0m     count \u001b[38;5;241m=\u001b[39m _MatrixChainOrderRecursive(matrix_array, i, k)              \u001b[38;5;66;03m# count the number of multiplications needed for the left chain\u001b[39;00m\n\u001b[1;32m---> 21\u001b[0m     count \u001b[38;5;241m+\u001b[39m\u001b[38;5;241m=\u001b[39m \u001b[43m_MatrixChainOrderRecursive\u001b[49m\u001b[43m(\u001b[49m\u001b[43mmatrix_array\u001b[49m\u001b[43m,\u001b[49m\u001b[43m \u001b[49m\u001b[43mk\u001b[49m\u001b[43m \u001b[49m\u001b[38;5;241;43m+\u001b[39;49m\u001b[43m \u001b[49m\u001b[38;5;241;43m1\u001b[39;49m\u001b[43m,\u001b[49m\u001b[43m \u001b[49m\u001b[43mj\u001b[49m\u001b[43m)\u001b[49m         \u001b[38;5;66;03m# count the number of multiplications needed for the right chain\u001b[39;00m\n\u001b[0;32m     23\u001b[0m     \u001b[38;5;66;03m# Combine: The solutions to the subproblems are combined (the multiplication counts are added together)\u001b[39;00m\n\u001b[0;32m     24\u001b[0m     count \u001b[38;5;241m+\u001b[39m\u001b[38;5;241m=\u001b[39m matrix_array[i \u001b[38;5;241m-\u001b[39m \u001b[38;5;241m1\u001b[39m] \u001b[38;5;241m*\u001b[39m matrix_array[k] \u001b[38;5;241m*\u001b[39m matrix_array[j]   \u001b[38;5;66;03m# count the number of multiplications needed for the current multiplication\u001b[39;00m\n",
      "Cell \u001b[1;32mIn[15], line 20\u001b[0m, in \u001b[0;36m_MatrixChainOrderRecursive\u001b[1;34m(matrix_array, i, j)\u001b[0m\n\u001b[0;32m     16\u001b[0m _min \u001b[38;5;241m=\u001b[39m \u001b[38;5;28mfloat\u001b[39m(\u001b[38;5;124m'\u001b[39m\u001b[38;5;124minf\u001b[39m\u001b[38;5;124m'\u001b[39m)\n\u001b[0;32m     18\u001b[0m \u001b[38;5;28;01mfor\u001b[39;00m k \u001b[38;5;129;01min\u001b[39;00m \u001b[38;5;28mrange\u001b[39m(i, j):\n\u001b[0;32m     19\u001b[0m     \u001b[38;5;66;03m# Divide: The problem is divided into smaller subproblems (multiplying smaller chains of matrices)\u001b[39;00m\n\u001b[1;32m---> 20\u001b[0m     count \u001b[38;5;241m=\u001b[39m \u001b[43m_MatrixChainOrderRecursive\u001b[49m\u001b[43m(\u001b[49m\u001b[43mmatrix_array\u001b[49m\u001b[43m,\u001b[49m\u001b[43m \u001b[49m\u001b[43mi\u001b[49m\u001b[43m,\u001b[49m\u001b[43m \u001b[49m\u001b[43mk\u001b[49m\u001b[43m)\u001b[49m              \u001b[38;5;66;03m# count the number of multiplications needed for the left chain\u001b[39;00m\n\u001b[0;32m     21\u001b[0m     count \u001b[38;5;241m+\u001b[39m\u001b[38;5;241m=\u001b[39m _MatrixChainOrderRecursive(matrix_array, k \u001b[38;5;241m+\u001b[39m \u001b[38;5;241m1\u001b[39m, j)         \u001b[38;5;66;03m# count the number of multiplications needed for the right chain\u001b[39;00m\n\u001b[0;32m     23\u001b[0m     \u001b[38;5;66;03m# Combine: The solutions to the subproblems are combined (the multiplication counts are added together)\u001b[39;00m\n",
      "Cell \u001b[1;32mIn[15], line 20\u001b[0m, in \u001b[0;36m_MatrixChainOrderRecursive\u001b[1;34m(matrix_array, i, j)\u001b[0m\n\u001b[0;32m     16\u001b[0m _min \u001b[38;5;241m=\u001b[39m \u001b[38;5;28mfloat\u001b[39m(\u001b[38;5;124m'\u001b[39m\u001b[38;5;124minf\u001b[39m\u001b[38;5;124m'\u001b[39m)\n\u001b[0;32m     18\u001b[0m \u001b[38;5;28;01mfor\u001b[39;00m k \u001b[38;5;129;01min\u001b[39;00m \u001b[38;5;28mrange\u001b[39m(i, j):\n\u001b[0;32m     19\u001b[0m     \u001b[38;5;66;03m# Divide: The problem is divided into smaller subproblems (multiplying smaller chains of matrices)\u001b[39;00m\n\u001b[1;32m---> 20\u001b[0m     count \u001b[38;5;241m=\u001b[39m \u001b[43m_MatrixChainOrderRecursive\u001b[49m\u001b[43m(\u001b[49m\u001b[43mmatrix_array\u001b[49m\u001b[43m,\u001b[49m\u001b[43m \u001b[49m\u001b[43mi\u001b[49m\u001b[43m,\u001b[49m\u001b[43m \u001b[49m\u001b[43mk\u001b[49m\u001b[43m)\u001b[49m              \u001b[38;5;66;03m# count the number of multiplications needed for the left chain\u001b[39;00m\n\u001b[0;32m     21\u001b[0m     count \u001b[38;5;241m+\u001b[39m\u001b[38;5;241m=\u001b[39m _MatrixChainOrderRecursive(matrix_array, k \u001b[38;5;241m+\u001b[39m \u001b[38;5;241m1\u001b[39m, j)         \u001b[38;5;66;03m# count the number of multiplications needed for the right chain\u001b[39;00m\n\u001b[0;32m     23\u001b[0m     \u001b[38;5;66;03m# Combine: The solutions to the subproblems are combined (the multiplication counts are added together)\u001b[39;00m\n",
      "    \u001b[1;31m[... skipping similar frames: _MatrixChainOrderRecursive at line 20 (2 times)]\u001b[0m\n",
      "Cell \u001b[1;32mIn[15], line 21\u001b[0m, in \u001b[0;36m_MatrixChainOrderRecursive\u001b[1;34m(matrix_array, i, j)\u001b[0m\n\u001b[0;32m     18\u001b[0m \u001b[38;5;28;01mfor\u001b[39;00m k \u001b[38;5;129;01min\u001b[39;00m \u001b[38;5;28mrange\u001b[39m(i, j):\n\u001b[0;32m     19\u001b[0m     \u001b[38;5;66;03m# Divide: The problem is divided into smaller subproblems (multiplying smaller chains of matrices)\u001b[39;00m\n\u001b[0;32m     20\u001b[0m     count \u001b[38;5;241m=\u001b[39m _MatrixChainOrderRecursive(matrix_array, i, k)              \u001b[38;5;66;03m# count the number of multiplications needed for the left chain\u001b[39;00m\n\u001b[1;32m---> 21\u001b[0m     count \u001b[38;5;241m+\u001b[39m\u001b[38;5;241m=\u001b[39m \u001b[43m_MatrixChainOrderRecursive\u001b[49m\u001b[43m(\u001b[49m\u001b[43mmatrix_array\u001b[49m\u001b[43m,\u001b[49m\u001b[43m \u001b[49m\u001b[43mk\u001b[49m\u001b[43m \u001b[49m\u001b[38;5;241;43m+\u001b[39;49m\u001b[43m \u001b[49m\u001b[38;5;241;43m1\u001b[39;49m\u001b[43m,\u001b[49m\u001b[43m \u001b[49m\u001b[43mj\u001b[49m\u001b[43m)\u001b[49m         \u001b[38;5;66;03m# count the number of multiplications needed for the right chain\u001b[39;00m\n\u001b[0;32m     23\u001b[0m     \u001b[38;5;66;03m# Combine: The solutions to the subproblems are combined (the multiplication counts are added together)\u001b[39;00m\n\u001b[0;32m     24\u001b[0m     count \u001b[38;5;241m+\u001b[39m\u001b[38;5;241m=\u001b[39m matrix_array[i \u001b[38;5;241m-\u001b[39m \u001b[38;5;241m1\u001b[39m] \u001b[38;5;241m*\u001b[39m matrix_array[k] \u001b[38;5;241m*\u001b[39m matrix_array[j]   \u001b[38;5;66;03m# count the number of multiplications needed for the current multiplication\u001b[39;00m\n",
      "    \u001b[1;31m[... skipping similar frames: _MatrixChainOrderRecursive at line 21 (5 times), _MatrixChainOrderRecursive at line 20 (1 times)]\u001b[0m\n",
      "Cell \u001b[1;32mIn[15], line 21\u001b[0m, in \u001b[0;36m_MatrixChainOrderRecursive\u001b[1;34m(matrix_array, i, j)\u001b[0m\n\u001b[0;32m     18\u001b[0m \u001b[38;5;28;01mfor\u001b[39;00m k \u001b[38;5;129;01min\u001b[39;00m \u001b[38;5;28mrange\u001b[39m(i, j):\n\u001b[0;32m     19\u001b[0m     \u001b[38;5;66;03m# Divide: The problem is divided into smaller subproblems (multiplying smaller chains of matrices)\u001b[39;00m\n\u001b[0;32m     20\u001b[0m     count \u001b[38;5;241m=\u001b[39m _MatrixChainOrderRecursive(matrix_array, i, k)              \u001b[38;5;66;03m# count the number of multiplications needed for the left chain\u001b[39;00m\n\u001b[1;32m---> 21\u001b[0m     count \u001b[38;5;241m+\u001b[39m\u001b[38;5;241m=\u001b[39m \u001b[43m_MatrixChainOrderRecursive\u001b[49m\u001b[43m(\u001b[49m\u001b[43mmatrix_array\u001b[49m\u001b[43m,\u001b[49m\u001b[43m \u001b[49m\u001b[43mk\u001b[49m\u001b[43m \u001b[49m\u001b[38;5;241;43m+\u001b[39;49m\u001b[43m \u001b[49m\u001b[38;5;241;43m1\u001b[39;49m\u001b[43m,\u001b[49m\u001b[43m \u001b[49m\u001b[43mj\u001b[49m\u001b[43m)\u001b[49m         \u001b[38;5;66;03m# count the number of multiplications needed for the right chain\u001b[39;00m\n\u001b[0;32m     23\u001b[0m     \u001b[38;5;66;03m# Combine: The solutions to the subproblems are combined (the multiplication counts are added together)\u001b[39;00m\n\u001b[0;32m     24\u001b[0m     count \u001b[38;5;241m+\u001b[39m\u001b[38;5;241m=\u001b[39m matrix_array[i \u001b[38;5;241m-\u001b[39m \u001b[38;5;241m1\u001b[39m] \u001b[38;5;241m*\u001b[39m matrix_array[k] \u001b[38;5;241m*\u001b[39m matrix_array[j]   \u001b[38;5;66;03m# count the number of multiplications needed for the current multiplication\u001b[39;00m\n",
      "Cell \u001b[1;32mIn[15], line 20\u001b[0m, in \u001b[0;36m_MatrixChainOrderRecursive\u001b[1;34m(matrix_array, i, j)\u001b[0m\n\u001b[0;32m     16\u001b[0m _min \u001b[38;5;241m=\u001b[39m \u001b[38;5;28mfloat\u001b[39m(\u001b[38;5;124m'\u001b[39m\u001b[38;5;124minf\u001b[39m\u001b[38;5;124m'\u001b[39m)\n\u001b[0;32m     18\u001b[0m \u001b[38;5;28;01mfor\u001b[39;00m k \u001b[38;5;129;01min\u001b[39;00m \u001b[38;5;28mrange\u001b[39m(i, j):\n\u001b[0;32m     19\u001b[0m     \u001b[38;5;66;03m# Divide: The problem is divided into smaller subproblems (multiplying smaller chains of matrices)\u001b[39;00m\n\u001b[1;32m---> 20\u001b[0m     count \u001b[38;5;241m=\u001b[39m \u001b[43m_MatrixChainOrderRecursive\u001b[49m\u001b[43m(\u001b[49m\u001b[43mmatrix_array\u001b[49m\u001b[43m,\u001b[49m\u001b[43m \u001b[49m\u001b[43mi\u001b[49m\u001b[43m,\u001b[49m\u001b[43m \u001b[49m\u001b[43mk\u001b[49m\u001b[43m)\u001b[49m              \u001b[38;5;66;03m# count the number of multiplications needed for the left chain\u001b[39;00m\n\u001b[0;32m     21\u001b[0m     count \u001b[38;5;241m+\u001b[39m\u001b[38;5;241m=\u001b[39m _MatrixChainOrderRecursive(matrix_array, k \u001b[38;5;241m+\u001b[39m \u001b[38;5;241m1\u001b[39m, j)         \u001b[38;5;66;03m# count the number of multiplications needed for the right chain\u001b[39;00m\n\u001b[0;32m     23\u001b[0m     \u001b[38;5;66;03m# Combine: The solutions to the subproblems are combined (the multiplication counts are added together)\u001b[39;00m\n",
      "Cell \u001b[1;32mIn[15], line 1\u001b[0m, in \u001b[0;36m_MatrixChainOrderRecursive\u001b[1;34m(matrix_array, i, j)\u001b[0m\n\u001b[1;32m----> 1\u001b[0m \u001b[38;5;28;01mdef\u001b[39;00m \u001b[38;5;21m_MatrixChainOrderRecursive\u001b[39m(matrix_array: \u001b[38;5;28mlist\u001b[39m, i: \u001b[38;5;28mint\u001b[39m, j: \u001b[38;5;28mint\u001b[39m) \u001b[38;5;241m-\u001b[39m\u001b[38;5;241m>\u001b[39m \u001b[38;5;28mint\u001b[39m:\n\u001b[0;32m      2\u001b[0m \u001b[38;5;250m    \u001b[39m\u001b[38;5;124;03m\"\"\"\u001b[39;00m\n\u001b[0;32m      3\u001b[0m \u001b[38;5;124;03m    Helper function for the Divide and Conquer approach to find the minimum number of multiplications needed to multiply the chain of matrices.\u001b[39;00m\n\u001b[0;32m      4\u001b[0m \u001b[38;5;124;03m    :param matrix_array: The dimensions of the matrices in the chain. A chain is not necessarily the whole list.\u001b[39;00m\n\u001b[1;32m   (...)\u001b[0m\n\u001b[0;32m      7\u001b[0m \u001b[38;5;124;03m    :return: The minimum number of multiplications needed.\u001b[39;00m\n\u001b[0;32m      8\u001b[0m \u001b[38;5;124;03m    \"\"\"\u001b[39;00m\n\u001b[0;32m     10\u001b[0m     \u001b[38;5;66;03m# Base case: if there is only one matrix in the chain\u001b[39;00m\n",
      "\u001b[1;31mKeyboardInterrupt\u001b[0m: "
     ]
    }
   ],
   "source": [
    "DnCExecTime = []\n",
    "DnCSampleSize = []\n",
    "for i, array in enumerate(arrays):\n",
    "    start = time.time()\n",
    "    MatrixChainOrderDnC(array)\n",
    "    DnCExecTime.append(time.time() - start)\n",
    "    DnCSampleSize.append(len(array))\n",
    "\n",
    "    if i == 9:\n",
    "        break"
   ]
  },
  {
   "cell_type": "code",
   "execution_count": null,
   "id": "11f47f71",
   "metadata": {},
   "outputs": [],
   "source": [
    "DNC_POLINOMIAL_DEGREE = 2\n",
    "\n",
    "# Fit a polynomial curve to the data\n",
    "coef = np.polyfit(DnCSampleSize, DnCExecTime, DNC_POLINOMIAL_DEGREE)\n",
    "poli = np.poly1d(coef)\n",
    "\n",
    "# Generate the curve\n",
    "sizesCurve = np.linspace(min(DnCSampleSize), max(DnCSampleSize), 100)\n",
    "timesCurve = poli(sizesCurve)\n",
    "\n",
    "plt.plot(DnCSampleSize, DPExecTime, marker='o')\n",
    "plt.plot(sizesCurve, timesCurve, label='Curva ajustada', color='red')\n",
    "plt.xlabel('Size')\n",
    "plt.ylabel('Execution time')\n",
    "plt.title('Divide and Conquer')\n",
    "plt.grid(True)\n",
    "plt.show()"
   ]
  },
  {
   "cell_type": "markdown",
   "id": "cc26941f72bd6807",
   "metadata": {
    "collapsed": false
   },
   "source": [
    "## Referencias\n",
    "- GeeksforGeeks [GfG]. (2022). _Matrix Chain Multiplication | DP-8. GeeksforGeeks_. [https://www.geeksforgeeks.org/matrix-chain-multiplication-dp-8/](https://www.geeksforgeeks.org/matrix-chain-multiplication-dp-8/)\n",
    "- More, C. (2019). Matrix Chain Multiplication using Dynamic Programming. Medium. [https://medium.com/@hichetanmore/matrix-chain-multiplication-using-dynamic-programming-22a137df955f](https://medium.com/@hichetanmore/matrix-chain-multiplication-using-dynamic-programming-22a137df955f)"
   ]
  }
 ],
 "metadata": {
  "kernelspec": {
   "display_name": "Python 3",
   "language": "python",
   "name": "python3"
  },
  "language_info": {
   "codemirror_mode": {
    "name": "ipython",
    "version": 3
   },
   "file_extension": ".py",
   "mimetype": "text/x-python",
   "name": "python",
   "nbconvert_exporter": "python",
   "pygments_lexer": "ipython3",
   "version": "3.11.8"
  }
 },
 "nbformat": 4,
 "nbformat_minor": 5
}
